{
  "nbformat": 4,
  "nbformat_minor": 0,
  "metadata": {
    "colab": {
      "name": "connextx.ipynb",
      "provenance": [],
      "collapsed_sections": [],
      "toc_visible": true,
      "authorship_tag": "ABX9TyMI5tb/hgYQiDnzXD1sLxid",
      "include_colab_link": true
    },
    "kernelspec": {
      "name": "python3",
      "display_name": "Python 3"
    }
  },
  "cells": [
    {
      "cell_type": "markdown",
      "metadata": {
        "id": "view-in-github",
        "colab_type": "text"
      },
      "source": [
        "<a href=\"https://colab.research.google.com/github/ashotordukhanyan/connectx/blob/master/connextx.ipynb\" target=\"_parent\"><img src=\"https://colab.research.google.com/assets/colab-badge.svg\" alt=\"Open In Colab\"/></a>"
      ]
    },
    {
      "cell_type": "code",
      "metadata": {
        "id": "JjTqEIBM8tZP",
        "colab_type": "code",
        "outputId": "c59ec37e-89ad-437d-e30d-536c77ace7fe",
        "colab": {
          "base_uri": "https://localhost:8080/",
          "height": 34
        }
      },
      "source": [
        "!git clone https://github.com/ashotordukhanyan/connectx.git\n",
        "%pip install kaggle_environments"
      ],
      "execution_count": 3,
      "outputs": [
        {
          "output_type": "stream",
          "text": [
            "fatal: destination path 'connectx' already exists and is not an empty directory.\n"
          ],
          "name": "stdout"
        }
      ]
    },
    {
      "cell_type": "code",
      "metadata": {
        "id": "-V_nHNnJ-Hbu",
        "colab_type": "code",
        "colab": {}
      },
      "source": [
        "\n",
        "import logging\n",
        "from collections import defaultdict, deque, namedtuple\n",
        "from typing import List\n",
        "\n",
        "import numpy as np\n",
        "# noinspection PyProtectedMember\n",
        "from kaggle_environments import make, Environment\n",
        "from numpy.random import choice\n",
        "from tensorflow.keras import Sequential, Model\n",
        "from tensorflow.keras.layers import Dense\n",
        "from tensorflow.keras.models import load_model\n",
        "from connectx.submission import RLAgent, SARSA"
      ],
      "execution_count": 0,
      "outputs": []
    },
    {
      "cell_type": "code",
      "metadata": {
        "id": "XtC25dcX-jJQ",
        "colab_type": "code",
        "colab": {
          "base_uri": "https://localhost:8080/",
          "height": 717
        },
        "outputId": "d73c4b1e-f4be-4be5-ef62-8d89423148bc"
      },
      "source": [
        "logging.basicConfig(level=logging.DEBUG, format='[%(asctime)s] [%(name)s] [%(levelname)s]:%(message)s')\n",
        "env = make(\"connectx\", debug=True)\n",
        "def gen_function(a: RLAgent) :\n",
        "    def f (obs,cfg):\n",
        "        return a.act(obs,cfg)\n",
        "    return f\n",
        "seed=42\n",
        "agent3 = RLAgent(env,epsilon=.1, name=\"playerFRESH1\", random=np.random.RandomState(seed+1))\n",
        "agent4 = RLAgent(env,epsilon=.1, name=\"playerFRESH2\", random=np.random.RandomState(seed+1))\n",
        "   "
      ],
      "execution_count": 11,
      "outputs": [
        {
          "output_type": "stream",
          "text": [
            "WARNING:tensorflow:From /usr/local/lib/python3.6/dist-packages/tensorflow_core/python/ops/resource_variable_ops.py:1630: calling BaseResourceVariable.__init__ (from tensorflow.python.ops.resource_variable_ops) with constraint is deprecated and will be removed in a future version.\n",
            "Instructions for updating:\n",
            "If using Keras pass *_constraint arguments to layers.\n"
          ],
          "name": "stdout"
        },
        {
          "output_type": "stream",
          "text": [
            "[2020-03-02 20:41:52,172] [tensorflow] [WARNING]:From /usr/local/lib/python3.6/dist-packages/tensorflow_core/python/ops/resource_variable_ops.py:1630: calling BaseResourceVariable.__init__ (from tensorflow.python.ops.resource_variable_ops) with constraint is deprecated and will be removed in a future version.\n",
            "Instructions for updating:\n",
            "If using Keras pass *_constraint arguments to layers.\n",
            "[2020-03-02 20:41:52,290] [root] [INFO]:None\n"
          ],
          "name": "stderr"
        },
        {
          "output_type": "stream",
          "text": [
            "Model: \"sequential\"\n",
            "_________________________________________________________________\n",
            "Layer (type)                 Output Shape              Param #   \n",
            "=================================================================\n",
            "dense (Dense)                (None, 20)                860       \n",
            "_________________________________________________________________\n",
            "dense_1 (Dense)              (None, 20)                420       \n",
            "_________________________________________________________________\n",
            "dense_2 (Dense)              (None, 20)                420       \n",
            "_________________________________________________________________\n",
            "dense_3 (Dense)              (None, 7)                 147       \n",
            "=================================================================\n",
            "Total params: 1,847\n",
            "Trainable params: 1,847\n",
            "Non-trainable params: 0\n",
            "_________________________________________________________________\n"
          ],
          "name": "stdout"
        },
        {
          "output_type": "stream",
          "text": [
            "[2020-03-02 20:41:52,415] [root] [INFO]:None\n"
          ],
          "name": "stderr"
        },
        {
          "output_type": "stream",
          "text": [
            "Model: \"sequential_1\"\n",
            "_________________________________________________________________\n",
            "Layer (type)                 Output Shape              Param #   \n",
            "=================================================================\n",
            "dense_4 (Dense)              (None, 20)                860       \n",
            "_________________________________________________________________\n",
            "dense_5 (Dense)              (None, 20)                420       \n",
            "_________________________________________________________________\n",
            "dense_6 (Dense)              (None, 20)                420       \n",
            "_________________________________________________________________\n",
            "dense_7 (Dense)              (None, 7)                 147       \n",
            "=================================================================\n",
            "Total params: 1,847\n",
            "Trainable params: 1,847\n",
            "Non-trainable params: 0\n",
            "_________________________________________________________________\n"
          ],
          "name": "stdout"
        }
      ]
    },
    {
      "cell_type": "code",
      "metadata": {
        "id": "sQyo-0zP-3eR",
        "colab_type": "code",
        "colab": {
          "base_uri": "https://localhost:8080/",
          "height": 54
        },
        "outputId": "a0ea1681-5344-4f75-b36b-3cb3c123e568"
      },
      "source": [
        "  steps = env.run(agents=[gen_function(agent3),gen_function(agent4)])\n"
      ],
      "execution_count": 14,
      "outputs": [
        {
          "output_type": "stream",
          "text": [
            "Error: Error when checking input: expected dense_input to have shape (42,) but got array with shape (1,)\n"
          ],
          "name": "stdout"
        }
      ]
    }
  ]
}